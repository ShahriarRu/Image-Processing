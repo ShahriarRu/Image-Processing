{
 "cells": [
  {
   "cell_type": "code",
   "execution_count": 1,
   "id": "67d2f4b9",
   "metadata": {},
   "outputs": [],
   "source": [
    "from tensorflow.keras.datasets import mnist\n",
    "import matplotlib.pyplot as plt\n",
    "import numpy as np\n",
    "import cv2\n",
    "import os\n",
    "from tensorflow.keras.layers import Input, Add, Conv2D, Activation\n",
    "from tensorflow.keras.models import Model, load_model\n",
    "from tensorflow.keras.optimizers import SGD"
   ]
  },
  {
   "cell_type": "code",
   "execution_count": 2,
   "id": "95ba5447",
   "metadata": {},
   "outputs": [
    {
     "ename": "NameError",
     "evalue": "name 'prepare_data' is not defined",
     "output_type": "error",
     "traceback": [
      "\u001b[1;31m---------------------------------------------------------------------------\u001b[0m",
      "\u001b[1;31mNameError\u001b[0m                                 Traceback (most recent call last)",
      "Input \u001b[1;32mIn [2]\u001b[0m, in \u001b[0;36m<cell line: 1>\u001b[1;34m()\u001b[0m\n\u001b[1;32m----> 1\u001b[0m trainX, trainY, testX, testY \u001b[38;5;241m=\u001b[39m \u001b[43mprepare_data\u001b[49m()\n",
      "\u001b[1;31mNameError\u001b[0m: name 'prepare_data' is not defined"
     ]
    }
   ],
   "source": [
    "trainX, trainY, testX, testY = prepare_data()"
   ]
  },
  {
   "cell_type": "code",
   "execution_count": null,
   "id": "d5ae87ed",
   "metadata": {},
   "outputs": [],
   "source": [
    "# Test performance of CNN\n",
    "predictedY = model.predict(testX)"
   ]
  },
  {
   "cell_type": "code",
   "execution_count": null,
   "id": "4c6d854c",
   "metadata": {},
   "outputs": [],
   "source": [
    "# Train a CNN for deblurring image if pre-trained model is not available.\n",
    "model_path = '/Deblurring_CNN.h5'\n",
    "if (os.path.exists(model_path)):\n",
    "    model = load_model(model_path) \n",
    "else:\n",
    "    model = train_model(trainX, trainY, model_path)"
   ]
  },
  {
   "cell_type": "code",
   "execution_count": null,
   "id": "b33996f0",
   "metadata": {},
   "outputs": [],
   "source": [
    "\n",
    "# Plot input, output and target images.\n",
    "img_set = [testX[:3, :, :, 0], predictedY[:3, :, :, 0], testY[:3, :, :, 0]]\n",
    "title_set = ['Blurred Image', 'Deblurred Image', 'Clear Image']\n",
    "fig_path = '/home/bibrity/DigitalImageProcessing/Deblurred_Digits.png'\n",
    "plot_img(img_set, title_set, fig_path)"
   ]
  },
  {
   "cell_type": "code",
   "execution_count": null,
   "id": "0dde95b2",
   "metadata": {},
   "outputs": [],
   "source": [
    "def prepare_data():\n",
    "    # Load data\n",
    "    (trainX, _), (testX, _) = mnist.load_data()\n",
    "\n",
    "    # Make image blurred.\n",
    "    blurred_trainX = generate_blurred_img(trainX)\n",
    "    blurred_testX = generate_blurred_img(testX)\n",
    "    print(blurred_trainX.shape, blurred_testX.shape)\n",
    "\n",
    "    # Turn 2D image into 3D since Conv2D accepts 3D data\n",
    "    print(trainX.shape)\n",
    "    trainX = np.expand_dims(trainX, axis = 3)\n",
    "    print(trainX.shape)\n",
    "\n",
    "    testX = np.expand_dims(testX, axis = 3)\n",
    "    blurred_trainX = np.expand_dims(blurred_trainX, axis = 3)\n",
    "    blurred_testX = np.expand_dims(blurred_testX, axis = 3)\n",
    "\n",
    "    return blurred_trainX, trainX, blurred_testX, testX"
   ]
  },
  {
   "cell_type": "code",
   "execution_count": null,
   "id": "33c9c212",
   "metadata": {},
   "outputs": [],
   "source": [
    "def generate_blurred_img(img_set):\n",
    "    n = img_set.shape[0]\n",
    "    blurred_img_set = img_set.copy()\n",
    "    for i in range(n):\n",
    "        blurred_img_set[i] = cv2.medianBlur(img_set[i], 5)\n",
    "\n",
    "    img_set = [img_set[:3], blurred_img_set[:3]]\n",
    "    title_set = ['Clear Image', 'Blurred Image']\n",
    "    plot_img(img_set, title_set)\n",
    "\n",
    "    return blurred_img_set"
   ]
  },
  {
   "cell_type": "code",
   "execution_count": null,
   "id": "c81e7ea1",
   "metadata": {},
   "outputs": [],
   "source": [
    "def plot_img(img_set, title_set, fig_path = ''):\n",
    "    plt.figure(figsize = (20, 20))\n",
    "    plt.rcParams['font.size'] = 22\n",
    "    n = len(img_set)\n",
    "    k = 1\n",
    "    for i in range(n):\n",
    "        for j in range(3):\n",
    "            plt.subplot(n, 3, k)\n",
    "            plt.imshow(img_set[i][j], cmap = 'gray')\n",
    "            plt.axis('off')\n",
    "            plt.title(title_set[i])\n",
    "            k += 1\n",
    "\n",
    "    if (fig_path != ''):\n",
    "        plt.savefig(fig_path)\n",
    "    plt.show()"
   ]
  },
  {
   "cell_type": "code",
   "execution_count": null,
   "id": "e80e8d25",
   "metadata": {},
   "outputs": [],
   "source": [
    "def build_model(h, w, ch):\n",
    "    # The architecture of this CNN was taken from Joon Son Chung, 2017, \"You said that\"\n",
    "    # Input layer\n",
    "    inputs = Input((h, w, ch))\n",
    "\n",
    "    # Hidden layers\n",
    "    x = Conv2D(64, kernel_size = (3, 3), padding = 'same', activation = 'relu')(inputs)\n",
    "    for i in range(8):\n",
    "        x = Conv2D(64, kernel_size = (3, 3), padding = 'same', activation = 'relu')(x)\n",
    "    \n",
    "    # Output layer\n",
    "    x = Conv2D(3, kernel_size = (3, 3), padding = 'same')(x)\n",
    "    x = Add()([inputs, x])\n",
    "    outputs = Activation('relu')(x)\n",
    "\n",
    "    # Build the model.\n",
    "    model = Model(inputs, outputs)\n",
    "    model.summary()\n",
    "    \n",
    "    return mode"
   ]
  }
 ],
 "metadata": {
  "kernelspec": {
   "display_name": "Python 3 (ipykernel)",
   "language": "python",
   "name": "python3"
  },
  "language_info": {
   "codemirror_mode": {
    "name": "ipython",
    "version": 3
   },
   "file_extension": ".py",
   "mimetype": "text/x-python",
   "name": "python",
   "nbconvert_exporter": "python",
   "pygments_lexer": "ipython3",
   "version": "3.9.12"
  }
 },
 "nbformat": 4,
 "nbformat_minor": 5
}
