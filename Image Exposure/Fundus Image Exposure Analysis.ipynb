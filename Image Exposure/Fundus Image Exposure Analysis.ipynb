{
 "cells": [
  {
   "cell_type": "markdown",
   "id": "d345af8d",
   "metadata": {},
   "source": [
    "# Importing Libraries"
   ]
  },
  {
   "cell_type": "code",
   "execution_count": 1,
   "id": "37dcc647",
   "metadata": {},
   "outputs": [
    {
     "ename": "ModuleNotFoundError",
     "evalue": "No module named 'cv2'",
     "output_type": "error",
     "traceback": [
      "\u001b[1;31m---------------------------------------------------------------------------\u001b[0m",
      "\u001b[1;31mModuleNotFoundError\u001b[0m                       Traceback (most recent call last)",
      "Input \u001b[1;32mIn [1]\u001b[0m, in \u001b[0;36m<cell line: 1>\u001b[1;34m()\u001b[0m\n\u001b[1;32m----> 1\u001b[0m \u001b[38;5;28;01mimport\u001b[39;00m \u001b[38;5;21;01mcv2\u001b[39;00m \u001b[38;5;28;01mas\u001b[39;00m \u001b[38;5;21;01mcv\u001b[39;00m\n\u001b[0;32m      2\u001b[0m \u001b[38;5;28;01mimport\u001b[39;00m \u001b[38;5;21;01mmatplotlib\u001b[39;00m\u001b[38;5;21;01m.\u001b[39;00m\u001b[38;5;21;01mpyplot\u001b[39;00m \u001b[38;5;28;01mas\u001b[39;00m \u001b[38;5;21;01mplt\u001b[39;00m\n\u001b[0;32m      3\u001b[0m \u001b[38;5;28;01mimport\u001b[39;00m \u001b[38;5;21;01mnumpy\u001b[39;00m \u001b[38;5;28;01mas\u001b[39;00m \u001b[38;5;21;01mnp\u001b[39;00m\n",
      "\u001b[1;31mModuleNotFoundError\u001b[0m: No module named 'cv2'"
     ]
    }
   ],
   "source": [
    "import cv2 as cv\n",
    "import matplotlib.pyplot as plt\n",
    "import numpy as np"
   ]
  },
  {
   "cell_type": "markdown",
   "id": "3b88a164",
   "metadata": {},
   "source": [
    "# Loading Images"
   ]
  },
  {
   "cell_type": "code",
   "execution_count": null,
   "id": "1969a414",
   "metadata": {},
   "outputs": [],
   "source": [
    "normal_img = plt.imread('C:/Users/Asus/OneDrive/Documents/MyWebProjects/Image Processing/Image Exposure/images/Fundus_Images/normal/NL_002.png')\n",
    "over_exposed_img = plt.imread('C:/Users/Asus/OneDrive/Documents/MyWebProjects/Image Processing/Image Exposure/images/Fundus_Images/overexposed/NL_002.png')\n",
    "under_exposed_img = plt.imread('C:/Users/Asus/OneDrive/Documents/MyWebProjects/Image Processing/Image Exposure/images/Fundus_Images/underexposed/NL_002.png')\n",
    "                \n",
    "normal_img2 = plt.imread('C:/Users/Asus/OneDrive/Documents/MyWebProjects/Image Processing/Image Exposure/images/Fundus_Images/normal/NL_005.png')\n",
    "over_exposed_img2 = plt.imread('C:/Users/Asus/OneDrive/Documents/MyWebProjects/Image Processing/Image Exposure/images/Fundus_Images/overexposed/NL_005.png')\n",
    "under_exposed_img2 = plt.imread('C:/Users/Asus/OneDrive/Documents/MyWebProjects/Image Processing/Image Exposure/images/Fundus_Images/underexposed/NL_005.png')\n",
    "                \n",
    "normal_img3 = plt.imread('C:/Users/Asus/OneDrive/Documents/MyWebProjects/Image Processing/Image Exposure/images/Fundus_Images/normal/NL_009.png')\n",
    "over_exposed_img3 = plt.imread('C:/Users/Asus/OneDrive/Documents/MyWebProjects/Image Processing/Image Exposure/images/Fundus_Images/overexposed/NL_009.png')\n",
    "under_exposed_img3 = plt.imread('C:/Users/Asus/OneDrive/Documents/MyWebProjects/Image Processing/Image Exposure/images/Fundus_Images/underexposed/NL_009.png')\n",
    "                "
   ]
  },
  {
   "cell_type": "markdown",
   "id": "7f1c1c0d",
   "metadata": {},
   "source": [
    "# converting to rgb"
   ]
  },
  {
   "cell_type": "code",
   "execution_count": null,
   "id": "d8f09e1b",
   "metadata": {},
   "outputs": [],
   "source": [
    "normal_grayscale = cv.cvtColor(normal_img,cv.COLOR_RGB2GRAY)\n",
    "over_exposed_grayscale = cv.cvtColor(over_exposed_img,cv.COLOR_RGB2GRAY)\n",
    "under_exposed_grayscale = cv.cvtColor(under_exposed_img,cv.COLOR_RGB2GRAY)\n",
    "\n",
    "normal_grayscale2 = cv.cvtColor(normal_img2,cv.COLOR_RGB2GRAY)\n",
    "over_exposed_grayscale2 = cv.cvtColor(over_exposed_img2,cv.COLOR_RGB2GRAY)\n",
    "under_exposed_grayscale2 = cv.cvtColor(under_exposed_img2,cv.COLOR_RGB2GRAY)\n",
    "\n",
    "normal_grayscale3 = cv.cvtColor(normal_img3,cv.COLOR_RGB2GRAY)\n",
    "over_exposed_grayscale3 = cv.cvtColor(over_exposed_img3,cv.COLOR_RGB2GRAY)\n",
    "under_exposed_grayscale3 = cv.cvtColor(under_exposed_img3,cv.COLOR_RGB2GRAY)"
   ]
  },
  {
   "cell_type": "code",
   "execution_count": null,
   "id": "ed2fbe34",
   "metadata": {},
   "outputs": [],
   "source": [
    "h,w = normal_grayscale.shape"
   ]
  },
  {
   "cell_type": "markdown",
   "id": "af3e2fd9",
   "metadata": {},
   "source": [
    "# Plotting Histograms"
   ]
  },
  {
   "cell_type": "code",
   "execution_count": null,
   "id": "9bc66157",
   "metadata": {},
   "outputs": [],
   "source": [
    "plt.figure(figsize=(30,50))\n",
    "\n",
    "plt.subplot(9,2,1)\n",
    "plt.title('Normal')\n",
    "plt.imshow(1-normal_grayscale, cmap = 'gray')\n",
    "\n",
    "plt.subplot(9, 2, 2)\n",
    "plt.hist(1-normal_grayscale.ravel(),  range=[0,1], histtype='bar',align='mid',orientation='vertical');\n",
    "\n",
    "plt.subplot(9,2,3)\n",
    "plt.title('Normal')\n",
    "plt.imshow(1-normal_grayscale2, cmap = 'gray')\n",
    "\n",
    "plt.subplot(9, 2, 4)\n",
    "plt.hist(1-normal_grayscale2.ravel(),  range=[0,1],  histtype='bar',align='mid',orientation='vertical');\n",
    "\n",
    "plt.subplot(9,2,5)\n",
    "plt.title('Normal')\n",
    "plt.imshow(1-normal_grayscale3, cmap = 'gray')\n",
    "\n",
    "plt.subplot(9, 2, 6)\n",
    "plt.hist(1-normal_grayscale3.ravel(), range=[0,1], histtype='bar',align='mid',orientation='vertical');\n",
    "\n",
    "\n",
    "\n",
    "plt.subplot(9,2,7)\n",
    "plt.title('OverExposed')\n",
    "plt.imshow(1-over_exposed_grayscale, cmap = 'gray')\n",
    "\n",
    "plt.subplot(9, 2, 8)\n",
    "plt.hist(1-over_exposed_grayscale.ravel(), range=[0,1], histtype='bar',align='mid',orientation='vertical');\n",
    "\n",
    "\n",
    "plt.subplot(9,2,9)\n",
    "plt.title('OverExposed')\n",
    "plt.imshow(1-over_exposed_grayscale2, cmap = 'gray')\n",
    "\n",
    "plt.subplot(9, 2, 10)\n",
    "plt.hist(1-over_exposed_grayscale2.ravel(), range=[0,1], histtype='bar',align='mid',orientation='vertical',);\n",
    "\n",
    "\n",
    "plt.subplot(9,2,11)\n",
    "plt.title('OverExposed')\n",
    "plt.imshow(1-over_exposed_grayscale3, cmap = 'gray')\n",
    "\n",
    "plt.subplot(9, 2, 12)\n",
    "plt.hist(1-over_exposed_grayscale3.ravel(), range=[0,1], histtype='bar',align='mid',orientation='vertical');\n",
    "\n",
    "\n",
    "plt.subplot(9,2,13)\n",
    "plt.title('UnderExposed')\n",
    "plt.imshow(1-under_exposed_grayscale, cmap = 'gray')\n",
    "\n",
    "plt.subplot(9, 2, 14)\n",
    "plt.hist(1-under_exposed_grayscale.ravel(), range=[0,1], histtype='bar',align='mid',orientation='vertical');\n",
    "\n",
    "plt.subplot(9,2,15)\n",
    "plt.title('UnderExposed')\n",
    "plt.imshow(1-under_exposed_grayscale2, cmap = 'gray')\n",
    "\n",
    "plt.subplot(9, 2, 16)\n",
    "plt.hist(1-under_exposed_grayscale2.ravel(), range=[0,1], histtype='bar',align='mid',orientation='vertical');\n",
    "\n",
    "\n",
    "plt.subplot(9,2,17)\n",
    "plt.title('UnderExposed')\n",
    "plt.imshow(1-under_exposed_grayscale3, cmap = 'gray')\n",
    "\n",
    "plt.subplot(9, 2, 18)\n",
    "plt.hist(1-under_exposed_grayscale3.ravel(), range=[0,1],  histtype='bar',align='mid',orientation='vertical');\n",
    "\n",
    "plt.show()"
   ]
  },
  {
   "cell_type": "code",
   "execution_count": null,
   "id": "d95312b7",
   "metadata": {},
   "outputs": [],
   "source": []
  }
 ],
 "metadata": {
  "kernelspec": {
   "display_name": "Python 3 (ipykernel)",
   "language": "python",
   "name": "python3"
  },
  "language_info": {
   "codemirror_mode": {
    "name": "ipython",
    "version": 3
   },
   "file_extension": ".py",
   "mimetype": "text/x-python",
   "name": "python",
   "nbconvert_exporter": "python",
   "pygments_lexer": "ipython3",
   "version": "3.9.12"
  }
 },
 "nbformat": 4,
 "nbformat_minor": 5
}
